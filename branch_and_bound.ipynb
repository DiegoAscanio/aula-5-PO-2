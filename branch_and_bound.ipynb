{
 "cells": [
  {
   "cell_type": "markdown",
   "id": "5cdffd4b",
   "metadata": {},
   "source": [
    "# Algoritmo Branch and Bound\n",
    "\n",
    "## Setup"
   ]
  },
  {
   "cell_type": "code",
   "execution_count": 3,
   "id": "cb2e6572",
   "metadata": {},
   "outputs": [],
   "source": [
    "import numpy as np\n",
    "from ortools.linear_solver import pywraplp\n",
    "from copy import copy\n",
    "Z_max = -np.inf\n",
    "new_solver = pywraplp.Solver.CreateSolver"
   ]
  },
  {
   "cell_type": "markdown",
   "id": "cd2cbf18",
   "metadata": {},
   "source": [
    "### 1. Resolvo o PI na sua forma relaxada pelo simplex\n",
    "\n",
    "$$\n",
    "\\begin{align*}\n",
    "\\text{max }  & 3x_1 + x_2 \\\\\n",
    "\\text{s.a. } & 4x_1 + 2x_2 \\leq 11 \\\\\n",
    "             & x_i \\in Z_{+} \\text{ } \\forall i = 1, 2\n",
    "\\end{align*}\n",
    "$$"
   ]
  },
  {
   "cell_type": "code",
   "execution_count": 10,
   "id": "eb4361e0",
   "metadata": {},
   "outputs": [],
   "source": [
    "data_model = {\n",
    "    'constraint_coeffs' : [\n",
    "        [4, 2]\n",
    "    ],\n",
    "    'bounds': [11],\n",
    "    'num_vars' : 2,\n",
    "    'num_constraints' : 1\n",
    "}\n",
    "\n",
    "# criando solver\n",
    "solver = new_solver('GLOP')\n",
    "\n",
    "# adicionando variaveis\n",
    "infinity = solver.infinity()\n",
    "x = {}\n",
    "for i in range(data_model['num_vars']):\n",
    "    x[i] = solver.NumVar(0, infinity, 'x_{}'.format(i))\n",
    "    \n",
    "# adicionando restricoes\n",
    "for i in range(data_model['num_constraints']):\n",
    "    constraint = solver.RowConstraint(0, data_model['bounds'][i], '')\n",
    "    for j in range(data_model['num_vars']):\n",
    "        constraint.SetCoefficient(x[j], data_model['constraint_coeffs'][i][j])"
   ]
  },
  {
   "cell_type": "code",
   "execution_count": null,
   "id": "145f592b",
   "metadata": {},
   "outputs": [],
   "source": []
  }
 ],
 "metadata": {
  "kernelspec": {
   "display_name": "Python 3 (ipykernel)",
   "language": "python",
   "name": "python3"
  },
  "language_info": {
   "codemirror_mode": {
    "name": "ipython",
    "version": 3
   },
   "file_extension": ".py",
   "mimetype": "text/x-python",
   "name": "python",
   "nbconvert_exporter": "python",
   "pygments_lexer": "ipython3",
   "version": "3.11.3"
  }
 },
 "nbformat": 4,
 "nbformat_minor": 5
}
